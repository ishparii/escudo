{
 "cells": [
  {
   "cell_type": "markdown",
   "metadata": {},
   "source": [
    "This notebook will extract information from all of our DDOS csv files and place information into a large samples/features matrix. The matrix will look something like:\n",
    "```\n",
    "SOURCE_IP | VICTIM_IP | <Protocol>TRAFFIC_FROM_SRC_TO_DEST ...\n",
    "```\n",
    "Where `<Protocol>` can be ICMP, UDP, TCP, and a few others. "
   ]
  },
  {
   "cell_type": "code",
   "execution_count": 41,
   "metadata": {
    "collapsed": true
   },
   "outputs": [],
   "source": [
    "import pandas as pd \n",
    "import numpy as np \n",
    "import csv as csv \n",
    "import glob \n",
    "import pickle\n",
    "from datetime import datetime \n",
    "import matplotlib.pyplot as plt \n",
    "%matplotlib inline"
   ]
  },
  {
   "cell_type": "code",
   "execution_count": 42,
   "metadata": {
    "collapsed": true
   },
   "outputs": [],
   "source": [
    "victimIP = \"71.126.222.64\"\n",
    "to_drop = ['<->', 'total_bytes', 'total_frames']\n",
    "names = ['src', '<->', 'dest', 'in_frames', 'in_bytes', 'out_frames', 'out_bytes', 'total_frames', 'total_bytes', 'rel_start', 'duration']"
   ]
  },
  {
   "cell_type": "code",
   "execution_count": 44,
   "metadata": {
    "collapsed": false
   },
   "outputs": [],
   "source": [
    "# Begin dataframe by importing the total data, which will have all IPs\n",
    "protocol = 'total'\n",
    "protocol_names = [protocol + \"_\" + name for name in names]\n",
    "to_drop = [protocol + \"_\" + name for name in to_drop]\n",
    "ddos_df = pd.read_csv('../smallddos_total.tshark.csv', header=None, skiprows=5, names=protocol_names)\n",
    "ddos_df.drop(df.tail(1).index)\n",
    "ddos_df = ddos_df[ddos_df.total_src != victimIP]"
   ]
  },
  {
   "cell_type": "code",
   "execution_count": 32,
   "metadata": {
    "collapsed": false
   },
   "outputs": [],
   "source": [
    "ddos_list = []\n",
    "ddos_files = glob.glob(\"../smallddos*\")\n",
    "for i in range(len(ddos_files)):\n",
    "    protocol = ddos_files[i][10:-11] # e.g., icmp, tcp, total, etc\n",
    "    if protocol == 'total':\n",
    "        pass\n",
    "    else:\n",
    "        # Prefix the column names with the name of the protocol, e.g.:\n",
    "        #    icmp_src icmp_dest icmp_out_bytes ...\n",
    "        protocol_names = [protocol + \"_\" + name for name in names]\n",
    "        to_drop = [protocol + \"_\" + name for name in names]\n",
    "        \n",
    "        # Read the csv\n",
    "        df = pd.read_csv(ddos_files[i], header=None, skiprows=5, names=protocol_names)\n",
    "    \n",
    "        # Drop rows we don't need, including those where the src IP is the victim\n",
    "        df = df.drop(to_drop, axis=1)\n",
    "        df = df.drop(df.tail(1).index)\n",
    "        df = df[df.src != victimIP]\n",
    "    \n",
    "        \n",
    "    \n",
    "    \n",
    "    "
   ]
  }
 ],
 "metadata": {
  "kernelspec": {
   "display_name": "Python 3",
   "language": "python",
   "name": "python3"
  },
  "language_info": {
   "codemirror_mode": {
    "name": "ipython",
    "version": 3
   },
   "file_extension": ".py",
   "mimetype": "text/x-python",
   "name": "python",
   "nbconvert_exporter": "python",
   "pygments_lexer": "ipython3",
   "version": "3.4.3"
  }
 },
 "nbformat": 4,
 "nbformat_minor": 0
}
