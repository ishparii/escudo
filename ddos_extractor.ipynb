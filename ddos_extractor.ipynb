{
 "cells": [
  {
   "cell_type": "markdown",
   "metadata": {},
   "source": [
    "This notebook will extract information from all of our DDOS csv files and place information into a large samples/features matrix. The matrix will look something like:\n",
    "```\n",
    "SOURCE_IP | VICTIM_IP | <Protocol>TRAFFIC_FROM_SRC_TO_DEST ...\n",
    "```\n",
    "Where `<Protocol>` can be ICMP, UDP, TCP, and a few others. "
   ]
  },
  {
   "cell_type": "code",
   "execution_count": 211,
   "metadata": {
    "collapsed": false
   },
   "outputs": [],
   "source": [
    "import pandas as pd \n",
    "import numpy as np \n",
    "import csv as csv \n",
    "import glob \n",
    "import pickle\n",
    "from datetime import datetime \n",
    "import matplotlib.pyplot as plt \n",
    "%matplotlib inline"
   ]
  },
  {
   "cell_type": "code",
   "execution_count": 212,
   "metadata": {
    "collapsed": true
   },
   "outputs": [],
   "source": [
    "victimIP = \"71.126.222.64\"\n",
    "to_drop = ['<->', 'total_bytes', 'total_frames']\n",
    "names = ['src', '<->', 'dest', 'in_frames', 'in_bytes', 'out_frames', 'out_bytes', 'total_frames', 'total_bytes', 'rel_start', 'duration']"
   ]
  },
  {
   "cell_type": "code",
   "execution_count": 213,
   "metadata": {
    "collapsed": false
   },
   "outputs": [
    {
     "name": "stdout",
     "output_type": "stream",
     "text": [
      "['total_src', 'total_<->', 'total_dest', 'total_in_frames', 'total_in_bytes', 'total_out_frames', 'total_out_bytes', 'total_total_frames', 'total_total_bytes', 'total_rel_start', 'total_duration']\n"
     ]
    }
   ],
   "source": [
    "# Begin dataframe by importing the total data, which will have all IPs\n",
    "protocol_names = ['total' + \"_\" + name for name in names]\n",
    "print(protocol_names)\n",
    "protocol_to_drop = ['total' + \"_\" + name for name in to_drop]\n",
    "ddos_df = pd.read_csv('resources/smallddos_total.tshark.csv', header=None, skiprows=5, names=protocol_names)\n",
    "ddos_df['label'] = 'ddos'\n",
    "ddos_df = ddos_df.drop(ddos_df.tail(1).index)\n",
    "ddos_df = ddos_df.drop(protocol_to_drop, axis=1)\n",
    "ddos_df = ddos_df[ddos_df.total_src != victimIP]"
   ]
  },
  {
   "cell_type": "code",
   "execution_count": 214,
   "metadata": {
    "collapsed": false
   },
   "outputs": [
    {
     "name": "stdout",
     "output_type": "stream",
     "text": [
      "PROTOCOL : icmp\n",
      "PROTOCOL : tcp\n",
      "PROTOCOL : tcpPORTS\n",
      "PROTOCOL : total\n",
      "PROTOCOL : with_tcpsyn\n"
     ]
    }
   ],
   "source": [
    "ddos_files = glob.glob('resources/smallddos*')\n",
    "for i in range(len(ddos_files)):\n",
    "    protocol = ddos_files[i][20:-11] # e.g., icmp, tcp, total, etc\n",
    "    print(\"PROTOCOL : {0}\".format(protocol))\n",
    "    if protocol == 'total' or protocol == 'tcpPORTS':\n",
    "        pass\n",
    "    else:\n",
    "        # Prefix the column names with the name of the protocol, e.g.:\n",
    "        #     icmp_src icmp_dest icmp_out_bytes ...\n",
    "        protocol_names = [protocol + \"_\" + name for name in names]\n",
    "        protocol_to_drop = [protocol + \"_\" + col for col in to_drop]\n",
    "        \n",
    "        # Read the csv\n",
    "        df = pd.read_csv(ddos_files[i], header=None, skiprows=5, names=protocol_names)\n",
    "        \n",
    "        # Drop rows we don't need, including those where the src IP is the victim\n",
    "        df = df.drop(df.tail(1).index)\n",
    "        # TODO: Change so that pairs where victimIP is src is labelled\n",
    "        # victim_response instead of being dropped.\n",
    "        df = df[df[protocol + \"_src\"] != victimIP]\n",
    "        df = df.drop(protocol_to_drop, axis=1)\n",
    "        \n",
    "        protocol_names.remove(protocol + \"_src\")\n",
    "        protocol_names.remove(protocol + \"_<->\")\n",
    "        protocol_names.remove(protocol + \"_dest\")\n",
    "        protocol_names.remove(protocol + \"_in_frames\")\n",
    "        protocol_names.remove(protocol + \"_in_bytes\")\n",
    "        protocol_names.remove(protocol + \"_total_frames\")\n",
    "        protocol_names.remove(protocol + \"_total_bytes\")\n",
    "           \n",
    "        for protocol_name in protocol_names:\n",
    "            ddos_df[protocol_name] = 0\n",
    "        \n",
    "        for row_index, row in df.iterrows():\n",
    "            protocol_source_ip = row[protocol + '_src']\n",
    "            idx = ddos_df.loc[ddos_df['total_src'] == protocol_source_ip].index\n",
    "            for protocol_name in protocol_names:\n",
    "                ddos_df.loc[idx[0], protocol_name] = row[protocol_name]"
   ]
  },
  {
   "cell_type": "code",
   "execution_count": 217,
   "metadata": {
    "collapsed": false
   },
   "outputs": [],
   "source": [
    "# Pickle the data for later use:\n",
    "with open('ddos_df_pickled.pickle', 'wb') as handle:\n",
    "  pickle.dump(ddos_df, handle)\n",
    "\n",
    "# with open('ddos_df_pickled.pickle', 'rb') as handle:\n",
    "#   b = pickle.load(handle)"
   ]
  },
  {
   "cell_type": "code",
   "execution_count": 188,
   "metadata": {
    "collapsed": false,
    "scrolled": true
   },
   "outputs": [
    {
     "name": "stdout",
     "output_type": "stream",
     "text": [
      "Int64Index([226], dtype='int64')\n",
      "226\n"
     ]
    }
   ],
   "source": [
    "# Want to match the source IP in the current csv to that in the ddos_df\n",
    "ddos_row_index = ddos_df.loc[ddos_df['total_src'] == \"192.253.3.155\"].index\n",
    "print(ddos_row_index)\n",
    "print(ddos_row_index[0])\n",
    "# print(ddos_row_index)\n",
    "# print(ddos_df.loc[226])\n",
    "# print(ddos_df.loc[226, 'total_out_bytes'])\n",
    "# ddos_df.loc[226, 'total_out_bytes'] = 2000\n",
    "# print(ddos_df.loc[226, 'total_out_bytes'])"
   ]
  },
  {
   "cell_type": "code",
   "execution_count": 13,
   "metadata": {
    "collapsed": false
   },
   "outputs": [
    {
     "name": "stdout",
     "output_type": "stream",
     "text": [
      "False\n"
     ]
    }
   ],
   "source": [
    "# Verifying that all src IPs are distinct...\n",
    "def anydup(thelist):\n",
    "  seen = set()\n",
    "  for x in thelist:\n",
    "    if x in seen: return True\n",
    "    seen.add(x)\n",
    "  return False\n",
    "\n",
    "print(anydup(ddos_df.total_src))"
   ]
  },
  {
   "cell_type": "code",
   "execution_count": 18,
   "metadata": {
    "collapsed": false
   },
   "outputs": [
    {
     "data": {
      "text/plain": [
       "pandas.core.series.Series"
      ]
     },
     "execution_count": 18,
     "metadata": {},
     "output_type": "execute_result"
    }
   ],
   "source": [
    "type(ddos_df[\"total_src\"])"
   ]
  },
  {
   "cell_type": "code",
   "execution_count": 215,
   "metadata": {
    "collapsed": false
   },
   "outputs": [
    {
     "data": {
      "text/html": [
       "<div>\n",
       "<table border=\"1\" class=\"dataframe\">\n",
       "  <thead>\n",
       "    <tr style=\"text-align: right;\">\n",
       "      <th></th>\n",
       "      <th>total_src</th>\n",
       "      <th>total_dest</th>\n",
       "      <th>total_in_frames</th>\n",
       "      <th>total_in_bytes</th>\n",
       "      <th>total_out_frames</th>\n",
       "      <th>total_out_bytes</th>\n",
       "      <th>total_rel_start</th>\n",
       "      <th>total_duration</th>\n",
       "      <th>label</th>\n",
       "      <th>icmp_out_frames</th>\n",
       "      <th>...</th>\n",
       "      <th>icmp_rel_start</th>\n",
       "      <th>icmp_duration</th>\n",
       "      <th>tcp_out_frames</th>\n",
       "      <th>tcp_out_bytes</th>\n",
       "      <th>tcp_rel_start</th>\n",
       "      <th>tcp_duration</th>\n",
       "      <th>with_tcpsyn_out_frames</th>\n",
       "      <th>with_tcpsyn_out_bytes</th>\n",
       "      <th>with_tcpsyn_rel_start</th>\n",
       "      <th>with_tcpsyn_duration</th>\n",
       "    </tr>\n",
       "  </thead>\n",
       "  <tbody>\n",
       "    <tr>\n",
       "      <th>1</th>\n",
       "      <td>195.216.1.86</td>\n",
       "      <td>71.126.222.64</td>\n",
       "      <td>1</td>\n",
       "      <td>76</td>\n",
       "      <td>74</td>\n",
       "      <td>3996</td>\n",
       "      <td>0.006975</td>\n",
       "      <td>0.4997</td>\n",
       "      <td>ddos</td>\n",
       "      <td>37</td>\n",
       "      <td>...</td>\n",
       "      <td>0.035257</td>\n",
       "      <td>0.4714</td>\n",
       "      <td>37</td>\n",
       "      <td>1776</td>\n",
       "      <td>0.006975</td>\n",
       "      <td>0.4801</td>\n",
       "      <td>37</td>\n",
       "      <td>1776</td>\n",
       "      <td>0.006975</td>\n",
       "      <td>0.4801</td>\n",
       "    </tr>\n",
       "    <tr>\n",
       "      <th>2</th>\n",
       "      <td>195.52.240.138</td>\n",
       "      <td>71.126.222.64</td>\n",
       "      <td>1</td>\n",
       "      <td>76</td>\n",
       "      <td>60</td>\n",
       "      <td>3276</td>\n",
       "      <td>0.038455</td>\n",
       "      <td>0.4708</td>\n",
       "      <td>ddos</td>\n",
       "      <td>33</td>\n",
       "      <td>...</td>\n",
       "      <td>0.038455</td>\n",
       "      <td>0.4708</td>\n",
       "      <td>27</td>\n",
       "      <td>1296</td>\n",
       "      <td>0.038496</td>\n",
       "      <td>0.4707</td>\n",
       "      <td>27</td>\n",
       "      <td>1296</td>\n",
       "      <td>0.038496</td>\n",
       "      <td>0.4707</td>\n",
       "    </tr>\n",
       "    <tr>\n",
       "      <th>4</th>\n",
       "      <td>209.210.127.200</td>\n",
       "      <td>71.126.222.64</td>\n",
       "      <td>0</td>\n",
       "      <td>0</td>\n",
       "      <td>59</td>\n",
       "      <td>3420</td>\n",
       "      <td>0.007926</td>\n",
       "      <td>0.4152</td>\n",
       "      <td>ddos</td>\n",
       "      <td>49</td>\n",
       "      <td>...</td>\n",
       "      <td>0.007926</td>\n",
       "      <td>0.4152</td>\n",
       "      <td>10</td>\n",
       "      <td>480</td>\n",
       "      <td>0.018872</td>\n",
       "      <td>0.3901</td>\n",
       "      <td>10</td>\n",
       "      <td>480</td>\n",
       "      <td>0.018872</td>\n",
       "      <td>0.3901</td>\n",
       "    </tr>\n",
       "    <tr>\n",
       "      <th>5</th>\n",
       "      <td>167.46.3.209</td>\n",
       "      <td>71.126.222.64</td>\n",
       "      <td>1</td>\n",
       "      <td>88</td>\n",
       "      <td>55</td>\n",
       "      <td>2964</td>\n",
       "      <td>0.000971</td>\n",
       "      <td>0.5058</td>\n",
       "      <td>ddos</td>\n",
       "      <td>27</td>\n",
       "      <td>...</td>\n",
       "      <td>0.000971</td>\n",
       "      <td>0.5058</td>\n",
       "      <td>28</td>\n",
       "      <td>1344</td>\n",
       "      <td>0.003696</td>\n",
       "      <td>0.4656</td>\n",
       "      <td>28</td>\n",
       "      <td>1344</td>\n",
       "      <td>0.003696</td>\n",
       "      <td>0.4656</td>\n",
       "    </tr>\n",
       "    <tr>\n",
       "      <th>6</th>\n",
       "      <td>217.238.32.123</td>\n",
       "      <td>71.126.222.64</td>\n",
       "      <td>1</td>\n",
       "      <td>76</td>\n",
       "      <td>53</td>\n",
       "      <td>2856</td>\n",
       "      <td>0.012702</td>\n",
       "      <td>0.4925</td>\n",
       "      <td>ddos</td>\n",
       "      <td>26</td>\n",
       "      <td>...</td>\n",
       "      <td>0.028566</td>\n",
       "      <td>0.4766</td>\n",
       "      <td>27</td>\n",
       "      <td>1296</td>\n",
       "      <td>0.012702</td>\n",
       "      <td>0.4810</td>\n",
       "      <td>27</td>\n",
       "      <td>1296</td>\n",
       "      <td>0.012702</td>\n",
       "      <td>0.4810</td>\n",
       "    </tr>\n",
       "  </tbody>\n",
       "</table>\n",
       "<p>5 rows × 21 columns</p>\n",
       "</div>"
      ],
      "text/plain": [
       "         total_src     total_dest  total_in_frames  total_in_bytes  \\\n",
       "1     195.216.1.86  71.126.222.64                1              76   \n",
       "2   195.52.240.138  71.126.222.64                1              76   \n",
       "4  209.210.127.200  71.126.222.64                0               0   \n",
       "5     167.46.3.209  71.126.222.64                1              88   \n",
       "6   217.238.32.123  71.126.222.64                1              76   \n",
       "\n",
       "   total_out_frames  total_out_bytes  total_rel_start  total_duration label  \\\n",
       "1                74             3996         0.006975          0.4997  ddos   \n",
       "2                60             3276         0.038455          0.4708  ddos   \n",
       "4                59             3420         0.007926          0.4152  ddos   \n",
       "5                55             2964         0.000971          0.5058  ddos   \n",
       "6                53             2856         0.012702          0.4925  ddos   \n",
       "\n",
       "   icmp_out_frames          ...           icmp_rel_start  icmp_duration  \\\n",
       "1               37          ...                 0.035257         0.4714   \n",
       "2               33          ...                 0.038455         0.4708   \n",
       "4               49          ...                 0.007926         0.4152   \n",
       "5               27          ...                 0.000971         0.5058   \n",
       "6               26          ...                 0.028566         0.4766   \n",
       "\n",
       "   tcp_out_frames  tcp_out_bytes  tcp_rel_start  tcp_duration  \\\n",
       "1              37           1776       0.006975        0.4801   \n",
       "2              27           1296       0.038496        0.4707   \n",
       "4              10            480       0.018872        0.3901   \n",
       "5              28           1344       0.003696        0.4656   \n",
       "6              27           1296       0.012702        0.4810   \n",
       "\n",
       "   with_tcpsyn_out_frames  with_tcpsyn_out_bytes  with_tcpsyn_rel_start  \\\n",
       "1                      37                   1776               0.006975   \n",
       "2                      27                   1296               0.038496   \n",
       "4                      10                    480               0.018872   \n",
       "5                      28                   1344               0.003696   \n",
       "6                      27                   1296               0.012702   \n",
       "\n",
       "   with_tcpsyn_duration  \n",
       "1                0.4801  \n",
       "2                0.4707  \n",
       "4                0.3901  \n",
       "5                0.4656  \n",
       "6                0.4810  \n",
       "\n",
       "[5 rows x 21 columns]"
      ]
     },
     "execution_count": 215,
     "metadata": {},
     "output_type": "execute_result"
    }
   ],
   "source": [
    "ddos_df.head()"
   ]
  },
  {
   "cell_type": "code",
   "execution_count": null,
   "metadata": {
    "collapsed": true
   },
   "outputs": [],
   "source": []
  }
 ],
 "metadata": {
  "kernelspec": {
   "display_name": "Python 3",
   "language": "python",
   "name": "python3"
  },
  "language_info": {
   "codemirror_mode": {
    "name": "ipython",
    "version": 3
   },
   "file_extension": ".py",
   "mimetype": "text/x-python",
   "name": "python",
   "nbconvert_exporter": "python",
   "pygments_lexer": "ipython3",
   "version": "3.4.3"
  }
 },
 "nbformat": 4,
 "nbformat_minor": 0
}
