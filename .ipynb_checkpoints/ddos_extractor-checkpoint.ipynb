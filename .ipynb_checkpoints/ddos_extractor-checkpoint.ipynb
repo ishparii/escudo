{
 "cells": [
  {
   "cell_type": "markdown",
   "metadata": {},
   "source": [
    "This notebook will extract information from all of our DDOS csv files and place information into a large samples/features matrix. The matrix will look something like:\n",
    "```\n",
    "SOURCE_IP | VICTIM_IP | <Protocol>TRAFFIC_FROM_SRC_TO_DEST ...\n",
    "```\n",
    "Where `<Protocol>` can be ICMP, UDP, TCP, and a few others. "
   ]
  },
  {
   "cell_type": "code",
   "execution_count": 123,
   "metadata": {
    "collapsed": false
   },
   "outputs": [],
   "source": [
    "import pandas as pd \n",
    "import numpy as np \n",
    "import csv as csv \n",
    "import glob \n",
    "import pickle\n",
    "from datetime import datetime \n",
    "import matplotlib.pyplot as plt \n",
    "%matplotlib inline"
   ]
  },
  {
   "cell_type": "code",
   "execution_count": 124,
   "metadata": {
    "collapsed": true
   },
   "outputs": [],
   "source": [
    "victimIP = \"71.126.222.64\"\n",
    "to_drop = ['<->', 'total_bytes', 'total_frames']\n",
    "names = ['src', '<->', 'dest', 'in_frames', 'in_bytes', 'out_frames', 'out_bytes', 'total_frames', 'total_bytes', 'rel_start', 'duration']"
   ]
  },
  {
   "cell_type": "code",
   "execution_count": 127,
   "metadata": {
    "collapsed": false
   },
   "outputs": [
    {
     "name": "stdout",
     "output_type": "stream",
     "text": [
      "['total_src', 'total_<->', 'total_dest', 'total_in_frames', 'total_in_bytes', 'total_out_frames', 'total_out_bytes', 'total_total_frames', 'total_total_bytes', 'total_rel_start', 'total_duration']\n"
     ]
    }
   ],
   "source": [
    "# Begin dataframe by importing the total data, which will have all IPs\n",
    "protocol_names = ['total' + \"_\" + name for name in names]\n",
    "print(protocol_names)\n",
    "protocol_to_drop = ['total' + \"_\" + name for name in to_drop]\n",
    "ddos_df = pd.read_csv('resources/smallddos_total.tshark.csv', header=None, skiprows=5, names=protocol_names)\n",
    "ddos_df.drop(ddos_df.tail(1).index)\n",
    "ddos_df.drop(protocol_to_drop, axis=1)\n",
    "ddos_df = ddos_df[ddos_df.total_src != victimIP]"
   ]
  },
  {
   "cell_type": "code",
   "execution_count": 115,
   "metadata": {
    "collapsed": false
   },
   "outputs": [],
   "source": [
    "ddos_files = glob.glob('resources/smallddos*')\n",
    "for i in range(len(ddos_files)):\n",
    "    protocol = ddos_files[i][13:-11] # e.g., icmp, tcp, total, etc\n",
    "    if protocol == 'total':\n",
    "        pass\n",
    "    else:\n",
    "        # Prefix the column names with the name of the protocol, e.g.:\n",
    "        #     icmp_src icmp_dest icmp_out_bytes ...\n",
    "        protocol_names = [protocol + \"_\" + name for name in names]\n",
    "        protocol_to_drop = [protocol + \"_\" + col for col in to_drop]\n",
    "        \n",
    "        # Read the csv\n",
    "        df = pd.read_csv(ddos_files[i], header=None, skiprows=5, names=protocol_names)\n",
    "        \n",
    "        # Drop rows we don't need, including those where the src IP is the victim\n",
    "        df.drop(df.tail(1).index)\n",
    "        # TODO: Change so that pairs where victimIP is src is labelled\n",
    "        # victim_response instead of being dropped.\n",
    "        df = df[df[protocol + \"_src\"] != victimIP]\n",
    "        df = df.drop(protocol_to_drop, axis=1)\n",
    "        \n",
    "        protocol_names.remove(protocol + \"_src\")\n",
    "        protocol_names.remove(protocol + \"_<->\")\n",
    "        protocol_names.remove(protocol + \"_dest\")\n",
    "        protocol_names.remove(protocol + \"_in_frames\")\n",
    "        protocol_names.remove(protocol + \"_in_bytes\")\n",
    "        protocol_names.remove(protocol + \"_total_frames\")\n",
    "        protocol_names.remove(protocol + \"_total_bytes\")\n",
    "        # Now add information in df to ddos_df\n",
    "        for name in protocol_names:\n",
    "            ddos_df[name] = 0\n",
    "        for row_index, row in df.iterrows():\n",
    "            # Find row index in ddos_df of source IP from df\n",
    "            source_IP = row[protocol + '_src']\n",
    "            idx = ddos_df.loc[ddos_df['total_src'] == row[source_IP]].index\n",
    "            # Then add information to ddos_df\n",
    "            for name in protocol_names:\n",
    "                ddos_df.loc[idx, name[len(protocol):]] = row[name]"
   ]
  },
  {
   "cell_type": "code",
   "execution_count": 38,
   "metadata": {
    "collapsed": false
   },
   "outputs": [
    {
     "name": "stdout",
     "output_type": "stream",
     "text": [
      "2    34\n",
      "Name: src, dtype: int64\n",
      "Int64Index([2], dtype='int64')\n"
     ]
    }
   ],
   "source": [
    "x = ddos_df.loc[ddos_df['total_src'] == \"195.52.240.138\"].index\n",
    "ddos_df.loc[x, 'src'] = 34\n",
    "print(ddos_df.loc[x, 'src'])\n",
    "print(x)"
   ]
  },
  {
   "cell_type": "code",
   "execution_count": 121,
   "metadata": {
    "collapsed": false
   },
   "outputs": [
    {
     "data": {
      "text/plain": [
       "array(['total_src', 'total_<->', 'total_dest', 'total_in_frames',\n",
       "       'total_in_bytes', 'total_out_frames', 'total_out_bytes',\n",
       "       'total_total_frames', 'total_total_bytes', 'total_rel_start',\n",
       "       'total_duration', 'icmp_out_frames', 'icmp_out_bytes',\n",
       "       'icmp_rel_start', 'icmp_duration', '_out_frames', '_out_bytes',\n",
       "       '_rel_start', '_duration', 'tcp_out_frames', 'tcp_out_bytes',\n",
       "       'tcp_rel_start', 'tcp_duration', 'tcpPORTS_out_frames',\n",
       "       'tcpPORTS_out_bytes', 'tcpPORTS_rel_start', 'tcpPORTS_duration',\n",
       "       'with_tcpsyn_out_frames', 'with_tcpsyn_out_bytes',\n",
       "       'with_tcpsyn_rel_start', 'with_tcpsyn_duration'], dtype=object)"
      ]
     },
     "execution_count": 121,
     "metadata": {},
     "output_type": "execute_result"
    }
   ],
   "source": [
    "ddos_df.columns.values"
   ]
  },
  {
   "cell_type": "code",
   "execution_count": 13,
   "metadata": {
    "collapsed": false
   },
   "outputs": [
    {
     "name": "stdout",
     "output_type": "stream",
     "text": [
      "False\n"
     ]
    }
   ],
   "source": [
    "# Verifying that all src IPs are distinct...\n",
    "def anydup(thelist):\n",
    "  seen = set()\n",
    "  for x in thelist:\n",
    "    if x in seen: return True\n",
    "    seen.add(x)\n",
    "  return False\n",
    "\n",
    "print(anydup(ddos_df.total_src))"
   ]
  },
  {
   "cell_type": "code",
   "execution_count": 18,
   "metadata": {
    "collapsed": false
   },
   "outputs": [
    {
     "data": {
      "text/plain": [
       "pandas.core.series.Series"
      ]
     },
     "execution_count": 18,
     "metadata": {},
     "output_type": "execute_result"
    }
   ],
   "source": [
    "type(ddos_df[\"total_src\"])"
   ]
  },
  {
   "cell_type": "code",
   "execution_count": 117,
   "metadata": {
    "collapsed": false
   },
   "outputs": [
    {
     "data": {
      "text/html": [
       "<div>\n",
       "<table border=\"1\" class=\"dataframe\">\n",
       "  <thead>\n",
       "    <tr style=\"text-align: right;\">\n",
       "      <th></th>\n",
       "      <th>total_in_frames</th>\n",
       "      <th>total_in_bytes</th>\n",
       "      <th>total_out_frames</th>\n",
       "      <th>total_out_bytes</th>\n",
       "      <th>total_total_frames</th>\n",
       "      <th>total_total_bytes</th>\n",
       "      <th>total_rel_start</th>\n",
       "      <th>total_duration</th>\n",
       "      <th>icmp_out_frames</th>\n",
       "      <th>icmp_out_bytes</th>\n",
       "      <th>...</th>\n",
       "      <th>tcp_rel_start</th>\n",
       "      <th>tcp_duration</th>\n",
       "      <th>tcpPORTS_out_frames</th>\n",
       "      <th>tcpPORTS_out_bytes</th>\n",
       "      <th>tcpPORTS_rel_start</th>\n",
       "      <th>tcpPORTS_duration</th>\n",
       "      <th>with_tcpsyn_out_frames</th>\n",
       "      <th>with_tcpsyn_out_bytes</th>\n",
       "      <th>with_tcpsyn_rel_start</th>\n",
       "      <th>with_tcpsyn_duration</th>\n",
       "    </tr>\n",
       "  </thead>\n",
       "  <tbody>\n",
       "    <tr>\n",
       "      <th>count</th>\n",
       "      <td>4849.000000</td>\n",
       "      <td>4849.000000</td>\n",
       "      <td>4849.000000</td>\n",
       "      <td>4849.000000</td>\n",
       "      <td>4849.000000</td>\n",
       "      <td>4849.000000</td>\n",
       "      <td>4849.000000</td>\n",
       "      <td>4849.000000</td>\n",
       "      <td>4850</td>\n",
       "      <td>4850</td>\n",
       "      <td>...</td>\n",
       "      <td>4850</td>\n",
       "      <td>4850</td>\n",
       "      <td>4850</td>\n",
       "      <td>4850</td>\n",
       "      <td>4850</td>\n",
       "      <td>4850</td>\n",
       "      <td>4850</td>\n",
       "      <td>4850</td>\n",
       "      <td>4850</td>\n",
       "      <td>4850</td>\n",
       "    </tr>\n",
       "    <tr>\n",
       "      <th>mean</th>\n",
       "      <td>0.573314</td>\n",
       "      <td>49.988864</td>\n",
       "      <td>14.869251</td>\n",
       "      <td>877.641988</td>\n",
       "      <td>15.442565</td>\n",
       "      <td>927.630852</td>\n",
       "      <td>0.056290</td>\n",
       "      <td>0.402298</td>\n",
       "      <td>0</td>\n",
       "      <td>0</td>\n",
       "      <td>...</td>\n",
       "      <td>0</td>\n",
       "      <td>0</td>\n",
       "      <td>0</td>\n",
       "      <td>0</td>\n",
       "      <td>0</td>\n",
       "      <td>0</td>\n",
       "      <td>0</td>\n",
       "      <td>0</td>\n",
       "      <td>0</td>\n",
       "      <td>0</td>\n",
       "    </tr>\n",
       "    <tr>\n",
       "      <th>std</th>\n",
       "      <td>0.633594</td>\n",
       "      <td>55.102910</td>\n",
       "      <td>8.279900</td>\n",
       "      <td>473.179998</td>\n",
       "      <td>8.235602</td>\n",
       "      <td>470.304515</td>\n",
       "      <td>0.086616</td>\n",
       "      <td>0.131937</td>\n",
       "      <td>0</td>\n",
       "      <td>0</td>\n",
       "      <td>...</td>\n",
       "      <td>0</td>\n",
       "      <td>0</td>\n",
       "      <td>0</td>\n",
       "      <td>0</td>\n",
       "      <td>0</td>\n",
       "      <td>0</td>\n",
       "      <td>0</td>\n",
       "      <td>0</td>\n",
       "      <td>0</td>\n",
       "      <td>0</td>\n",
       "    </tr>\n",
       "    <tr>\n",
       "      <th>min</th>\n",
       "      <td>0.000000</td>\n",
       "      <td>0.000000</td>\n",
       "      <td>1.000000</td>\n",
       "      <td>48.000000</td>\n",
       "      <td>1.000000</td>\n",
       "      <td>48.000000</td>\n",
       "      <td>0.000000</td>\n",
       "      <td>0.000000</td>\n",
       "      <td>0</td>\n",
       "      <td>0</td>\n",
       "      <td>...</td>\n",
       "      <td>0</td>\n",
       "      <td>0</td>\n",
       "      <td>0</td>\n",
       "      <td>0</td>\n",
       "      <td>0</td>\n",
       "      <td>0</td>\n",
       "      <td>0</td>\n",
       "      <td>0</td>\n",
       "      <td>0</td>\n",
       "      <td>0</td>\n",
       "    </tr>\n",
       "    <tr>\n",
       "      <th>25%</th>\n",
       "      <td>0.000000</td>\n",
       "      <td>0.000000</td>\n",
       "      <td>9.000000</td>\n",
       "      <td>540.000000</td>\n",
       "      <td>10.000000</td>\n",
       "      <td>600.000000</td>\n",
       "      <td>0.009707</td>\n",
       "      <td>0.387400</td>\n",
       "      <td>0</td>\n",
       "      <td>0</td>\n",
       "      <td>...</td>\n",
       "      <td>0</td>\n",
       "      <td>0</td>\n",
       "      <td>0</td>\n",
       "      <td>0</td>\n",
       "      <td>0</td>\n",
       "      <td>0</td>\n",
       "      <td>0</td>\n",
       "      <td>0</td>\n",
       "      <td>0</td>\n",
       "      <td>0</td>\n",
       "    </tr>\n",
       "    <tr>\n",
       "      <th>50%</th>\n",
       "      <td>1.000000</td>\n",
       "      <td>88.000000</td>\n",
       "      <td>15.000000</td>\n",
       "      <td>900.000000</td>\n",
       "      <td>15.000000</td>\n",
       "      <td>928.000000</td>\n",
       "      <td>0.025188</td>\n",
       "      <td>0.453700</td>\n",
       "      <td>0</td>\n",
       "      <td>0</td>\n",
       "      <td>...</td>\n",
       "      <td>0</td>\n",
       "      <td>0</td>\n",
       "      <td>0</td>\n",
       "      <td>0</td>\n",
       "      <td>0</td>\n",
       "      <td>0</td>\n",
       "      <td>0</td>\n",
       "      <td>0</td>\n",
       "      <td>0</td>\n",
       "      <td>0</td>\n",
       "    </tr>\n",
       "    <tr>\n",
       "      <th>75%</th>\n",
       "      <td>1.000000</td>\n",
       "      <td>88.000000</td>\n",
       "      <td>20.000000</td>\n",
       "      <td>1164.000000</td>\n",
       "      <td>20.000000</td>\n",
       "      <td>1228.000000</td>\n",
       "      <td>0.058776</td>\n",
       "      <td>0.484200</td>\n",
       "      <td>0</td>\n",
       "      <td>0</td>\n",
       "      <td>...</td>\n",
       "      <td>0</td>\n",
       "      <td>0</td>\n",
       "      <td>0</td>\n",
       "      <td>0</td>\n",
       "      <td>0</td>\n",
       "      <td>0</td>\n",
       "      <td>0</td>\n",
       "      <td>0</td>\n",
       "      <td>0</td>\n",
       "      <td>0</td>\n",
       "    </tr>\n",
       "    <tr>\n",
       "      <th>max</th>\n",
       "      <td>6.000000</td>\n",
       "      <td>528.000000</td>\n",
       "      <td>74.000000</td>\n",
       "      <td>3996.000000</td>\n",
       "      <td>75.000000</td>\n",
       "      <td>4072.000000</td>\n",
       "      <td>0.512105</td>\n",
       "      <td>0.514500</td>\n",
       "      <td>0</td>\n",
       "      <td>0</td>\n",
       "      <td>...</td>\n",
       "      <td>0</td>\n",
       "      <td>0</td>\n",
       "      <td>0</td>\n",
       "      <td>0</td>\n",
       "      <td>0</td>\n",
       "      <td>0</td>\n",
       "      <td>0</td>\n",
       "      <td>0</td>\n",
       "      <td>0</td>\n",
       "      <td>0</td>\n",
       "    </tr>\n",
       "  </tbody>\n",
       "</table>\n",
       "<p>8 rows × 28 columns</p>\n",
       "</div>"
      ],
      "text/plain": [
       "       total_in_frames  total_in_bytes  total_out_frames  total_out_bytes  \\\n",
       "count      4849.000000     4849.000000       4849.000000      4849.000000   \n",
       "mean          0.573314       49.988864         14.869251       877.641988   \n",
       "std           0.633594       55.102910          8.279900       473.179998   \n",
       "min           0.000000        0.000000          1.000000        48.000000   \n",
       "25%           0.000000        0.000000          9.000000       540.000000   \n",
       "50%           1.000000       88.000000         15.000000       900.000000   \n",
       "75%           1.000000       88.000000         20.000000      1164.000000   \n",
       "max           6.000000      528.000000         74.000000      3996.000000   \n",
       "\n",
       "       total_total_frames  total_total_bytes  total_rel_start  total_duration  \\\n",
       "count         4849.000000        4849.000000      4849.000000     4849.000000   \n",
       "mean            15.442565         927.630852         0.056290        0.402298   \n",
       "std              8.235602         470.304515         0.086616        0.131937   \n",
       "min              1.000000          48.000000         0.000000        0.000000   \n",
       "25%             10.000000         600.000000         0.009707        0.387400   \n",
       "50%             15.000000         928.000000         0.025188        0.453700   \n",
       "75%             20.000000        1228.000000         0.058776        0.484200   \n",
       "max             75.000000        4072.000000         0.512105        0.514500   \n",
       "\n",
       "       icmp_out_frames  icmp_out_bytes          ...           tcp_rel_start  \\\n",
       "count             4850            4850          ...                    4850   \n",
       "mean                 0               0          ...                       0   \n",
       "std                  0               0          ...                       0   \n",
       "min                  0               0          ...                       0   \n",
       "25%                  0               0          ...                       0   \n",
       "50%                  0               0          ...                       0   \n",
       "75%                  0               0          ...                       0   \n",
       "max                  0               0          ...                       0   \n",
       "\n",
       "       tcp_duration  tcpPORTS_out_frames  tcpPORTS_out_bytes  \\\n",
       "count          4850                 4850                4850   \n",
       "mean              0                    0                   0   \n",
       "std               0                    0                   0   \n",
       "min               0                    0                   0   \n",
       "25%               0                    0                   0   \n",
       "50%               0                    0                   0   \n",
       "75%               0                    0                   0   \n",
       "max               0                    0                   0   \n",
       "\n",
       "       tcpPORTS_rel_start  tcpPORTS_duration  with_tcpsyn_out_frames  \\\n",
       "count                4850               4850                    4850   \n",
       "mean                    0                  0                       0   \n",
       "std                     0                  0                       0   \n",
       "min                     0                  0                       0   \n",
       "25%                     0                  0                       0   \n",
       "50%                     0                  0                       0   \n",
       "75%                     0                  0                       0   \n",
       "max                     0                  0                       0   \n",
       "\n",
       "       with_tcpsyn_out_bytes  with_tcpsyn_rel_start  with_tcpsyn_duration  \n",
       "count                   4850                   4850                  4850  \n",
       "mean                       0                      0                     0  \n",
       "std                        0                      0                     0  \n",
       "min                        0                      0                     0  \n",
       "25%                        0                      0                     0  \n",
       "50%                        0                      0                     0  \n",
       "75%                        0                      0                     0  \n",
       "max                        0                      0                     0  \n",
       "\n",
       "[8 rows x 28 columns]"
      ]
     },
     "execution_count": 117,
     "metadata": {},
     "output_type": "execute_result"
    }
   ],
   "source": [
    "ddos_df.describe()"
   ]
  },
  {
   "cell_type": "code",
   "execution_count": null,
   "metadata": {
    "collapsed": true
   },
   "outputs": [],
   "source": []
  }
 ],
 "metadata": {
  "kernelspec": {
   "display_name": "Python 3",
   "language": "python",
   "name": "python3"
  },
  "language_info": {
   "codemirror_mode": {
    "name": "ipython",
    "version": 3
   },
   "file_extension": ".py",
   "mimetype": "text/x-python",
   "name": "python",
   "nbconvert_exporter": "python",
   "pygments_lexer": "ipython3",
   "version": "3.4.3"
  }
 },
 "nbformat": 4,
 "nbformat_minor": 0
}
