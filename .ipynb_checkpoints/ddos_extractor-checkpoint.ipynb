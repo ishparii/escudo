{
 "cells": [
  {
   "cell_type": "markdown",
   "metadata": {},
   "source": [
    "This notebook will extract information from all of our DDOS csv files and place information into a large samples/features matrix. The matrix will look something like:\n",
    "```\n",
    "SOURCE_IP | VICTIM_IP | <Protocol>TRAFFIC_FROM_SRC_TO_DEST ...\n",
    "```\n",
    "Where `<Protocol>` can be ICMP, UDP, TCP, and a few others. "
   ]
  },
  {
   "cell_type": "code",
   "execution_count": 330,
   "metadata": {
    "collapsed": false
   },
   "outputs": [],
   "source": [
    "import pandas as pd \n",
    "import numpy as np \n",
    "import csv as csv \n",
    "import glob \n",
    "import pickle\n",
    "from datetime import datetime \n",
    "import matplotlib.pyplot as plt \n",
    "%matplotlib inline"
   ]
  },
  {
   "cell_type": "code",
   "execution_count": 331,
   "metadata": {
    "collapsed": true
   },
   "outputs": [],
   "source": [
    "victimIP = \"71.126.222.64\"\n",
    "to_drop = ['<->', 'rel_start']\n",
    "names = ['src', '<->', 'dest', 'in_frames', 'in_bytes', 'out_frames', 'out_bytes', 'total_frames', 'total_bytes', 'rel_start', 'duration']"
   ]
  },
  {
   "cell_type": "code",
   "execution_count": 343,
   "metadata": {
    "collapsed": false
   },
   "outputs": [
    {
     "name": "stdout",
     "output_type": "stream",
     "text": [
      "['total_src', 'total_<->', 'total_dest', 'total_in_frames', 'total_in_bytes', 'total_out_frames', 'total_out_bytes', 'total_total_frames', 'total_total_bytes', 'total_rel_start', 'total_duration']\n"
     ]
    }
   ],
   "source": [
    "# Begin dataframe by importing the total data, which will have all IPs\n",
    "protocol_names = ['total' + \"_\" + name for name in names]\n",
    "print(protocol_names)\n",
    "protocol_to_drop = ['total' + \"_\" + name for name in to_drop]\n",
    "ddos_df = pd.read_csv('resources/smallddos_total.tshark.csv', header=None, skiprows=5, names=protocol_names)\n",
    "ddos_df = ddos_df[ddos_df.total_src != victimIP]\n",
    "ddos_df['label'] = 'ddos'\n",
    "ddos_df['total_out_bytes_rate'] = 0\n",
    "ddos_df['total_out_frames_rate'] = 0\n",
    "\n",
    "for i, row in ddos_df.iterrows():\n",
    "    if row.total_out_bytes > 0 and row.total_duration != 0:\n",
    "        ddos_df.loc[i, 'total_out_bytes_rate'] = row.total_out_bytes / row.total_duration\n",
    "    if row.total_out_bytes > 0 and row.total_duration != 0:\n",
    "        ddos_df.loc[i, 'total_out_frames_rate'] = row.total_out_frames / row.total_duration    \n",
    "ddos_df = ddos_df.drop(ddos_df.tail(1).index)\n",
    "ddos_df = ddos_df.drop(protocol_to_drop, axis=1)\n"
   ]
  },
  {
   "cell_type": "code",
   "execution_count": 344,
   "metadata": {
    "collapsed": false
   },
   "outputs": [
    {
     "name": "stdout",
     "output_type": "stream",
     "text": [
      "PROTOCOL : icmp\n",
      "PROTOCOL : tcp\n",
      "PROTOCOL : tcpPORTS\n",
      "PROTOCOL : total\n",
      "PROTOCOL : with_tcpsyn\n"
     ]
    }
   ],
   "source": [
    "ddos_files = glob.glob('resources/smallddos*')\n",
    "for i in range(len(ddos_files)):\n",
    "    protocol = ddos_files[i][20:-11] # e.g., icmp, tcp, total, etc\n",
    "    print(\"PROTOCOL : {0}\".format(protocol))\n",
    "    if protocol == 'total' or protocol == 'tcpPORTS':\n",
    "        pass\n",
    "    else:\n",
    "        # Prefix the column names with the name of the protocol, e.g.:\n",
    "        #     icmp_src icmp_dest icmp_out_bytes ...\n",
    "        protocol_names = [protocol + \"_\" + name for name in names]\n",
    "        protocol_to_drop = [protocol + \"_\" + col for col in to_drop]\n",
    "        \n",
    "        # Read the csv\n",
    "        df = pd.read_csv(ddos_files[i], header=None, skiprows=5, names=protocol_names)\n",
    "        \n",
    "        # Drop rows we don't need, including those where the src IP is the victim\n",
    "        df = df.drop(df.tail(1).index)\n",
    "        # TODO: Change so that pairs where victimIP is src is labelled\n",
    "        # victim_response instead of being dropped.\n",
    "        df = df[df[protocol + \"_src\"] != victimIP]\n",
    "        df = df.drop(protocol_to_drop, axis=1)\n",
    "        \n",
    "        protocol_names.remove(protocol + \"_src\")\n",
    "        protocol_names.remove(protocol + \"_<->\")\n",
    "        protocol_names.remove(protocol + \"_dest\")\n",
    "        protocol_names.remove(protocol + \"_rel_start\")\n",
    "        protocol_names.remove(protocol + \"_in_frames\")\n",
    "        protocol_names.remove(protocol + \"_in_bytes\")\n",
    "        protocol_names.remove(protocol + \"_total_frames\")\n",
    "        protocol_names.remove(protocol + \"_total_bytes\")\n",
    "           \n",
    "        ddos_df[protocol + '_out_bytes_rate'] = 0 # icmp_out_bytes_rate\n",
    "        ddos_df[protocol + '_out_frames_rate'] = 0# icmp_out_frames_rate\n",
    "        for protocol_name in protocol_names:\n",
    "            ddos_df[protocol_name] = 0\n",
    "        \n",
    "        for row_index, row in df.iterrows():\n",
    "            protocol_source_ip = row[protocol + '_src']\n",
    "            idx = ddos_df.loc[ddos_df['total_src'] == protocol_source_ip].index\n",
    "            for protocol_name in protocol_names:\n",
    "                ddos_df.loc[idx[0], protocol_name] = row[protocol_name]\n",
    "            if row[protocol + '_out_bytes'] > 0 and row[protocol + '_duration'] != 0:\n",
    "                ddos_df.loc[idx[0], protocol + '_out_bytes_rate'] = row[protocol + '_out_bytes'] / row[protocol + '_duration']\n",
    "            if row[protocol + '_out_frames'] > 0 and row[protocol + '_duration'] != 0:\n",
    "                ddos_df.loc[idx[0], protocol + '_out_frames_rate'] = row[protocol +'_out_frames'] / row[protocol + '_duration']"
   ]
  },
  {
   "cell_type": "code",
   "execution_count": 334,
   "metadata": {
    "collapsed": false,
    "scrolled": true
   },
   "outputs": [],
   "source": [
    "# Now let's import Carlos' tcpPORTS data and add it as a feature.\n",
    "with open('ddos_tcpPORTS.pickle', 'rb') as handle:\n",
    "    ddos_ports_dict = pickle.load(handle)\n",
    "# with open('passive_tcpPORTS.pickle', 'rb') as handle:\n",
    "#     passive_ports_dict = pickle.load(handle)"
   ]
  },
  {
   "cell_type": "code",
   "execution_count": 335,
   "metadata": {
    "collapsed": false,
    "scrolled": true
   },
   "outputs": [],
   "source": [
    "# Create a new column in the dataframe which contains the\n",
    "# number of ports used to attack the victim:\n",
    "ddos_df['tcp_ports_used'] = 0\n",
    "not_found = 0\n",
    "for ip_pair in ddos_ports_dict:\n",
    "    idx = ddos_df.loc[ddos_df['total_src'] == ip_pair[0]].index\n",
    "    try:\n",
    "        ddos_df.loc[idx[0], 'tcp_ports_used'] = len(ddos_ports_dict[ip_pair])\n",
    "    except:\n",
    "        not_found = not_found + 1"
   ]
  },
  {
   "cell_type": "code",
   "execution_count": 336,
   "metadata": {
    "collapsed": false
   },
   "outputs": [],
   "source": [
    "# Now we drop the features that we're not interested in -- \n",
    "# that is, all data not having to do with rates. \n",
    "bad_items = ['total_in_frames','total_in_bytes',\\\n",
    "             'total_out_frames','total_out_bytes',\\\n",
    "             'total_total_frames','total_total_bytes',\\\n",
    "             'total_duration','icmp_out_frames',\\\n",
    "             'icmp_out_bytes','icmp_duration','tcp_out_frames',\\\n",
    "             'tcp_out_bytes','tcp_duration','with_tcpsyn_out_frames',\\\n",
    "             'with_tcpsyn_out_bytes','with_tcpsyn_duration']\n",
    "ddos_df = ddos_df.drop(bad_items, axis=1)"
   ]
  },
  {
   "cell_type": "code",
   "execution_count": 339,
   "metadata": {
    "collapsed": false
   },
   "outputs": [
    {
     "data": {
      "text/html": [
       "<div>\n",
       "<table border=\"1\" class=\"dataframe\">\n",
       "  <thead>\n",
       "    <tr style=\"text-align: right;\">\n",
       "      <th></th>\n",
       "      <th>src</th>\n",
       "      <th>dst</th>\n",
       "      <th>label</th>\n",
       "      <th>total_out_bytes_rate</th>\n",
       "      <th>total_out_frames_rate</th>\n",
       "      <th>icmp_out_bytes_rate</th>\n",
       "      <th>icmp_out_frames_rate</th>\n",
       "      <th>tcp_out_bytes_rate</th>\n",
       "      <th>tcp_out_frames_rate</th>\n",
       "      <th>with_tcpsyn_out_bytes_rate</th>\n",
       "      <th>with_tcpsyn_out_frames_rate</th>\n",
       "      <th>tcp_ports_used</th>\n",
       "    </tr>\n",
       "  </thead>\n",
       "  <tbody>\n",
       "    <tr>\n",
       "      <th>1</th>\n",
       "      <td>195.216.1.86</td>\n",
       "      <td>71.126.222.64</td>\n",
       "      <td>ddos</td>\n",
       "      <td>7996.798079</td>\n",
       "      <td>148.088853</td>\n",
       "      <td>4709.376326</td>\n",
       "      <td>78.489605</td>\n",
       "      <td>3699.229327</td>\n",
       "      <td>77.067278</td>\n",
       "      <td>3699.229327</td>\n",
       "      <td>77.067278</td>\n",
       "      <td>37</td>\n",
       "    </tr>\n",
       "    <tr>\n",
       "      <th>2</th>\n",
       "      <td>195.52.240.138</td>\n",
       "      <td>71.126.222.64</td>\n",
       "      <td>ddos</td>\n",
       "      <td>6958.368734</td>\n",
       "      <td>127.442651</td>\n",
       "      <td>4205.607477</td>\n",
       "      <td>70.093458</td>\n",
       "      <td>2753.346080</td>\n",
       "      <td>57.361377</td>\n",
       "      <td>2753.346080</td>\n",
       "      <td>57.361377</td>\n",
       "      <td>27</td>\n",
       "    </tr>\n",
       "    <tr>\n",
       "      <th>4</th>\n",
       "      <td>209.210.127.200</td>\n",
       "      <td>71.126.222.64</td>\n",
       "      <td>ddos</td>\n",
       "      <td>8236.994220</td>\n",
       "      <td>142.100193</td>\n",
       "      <td>7080.924855</td>\n",
       "      <td>118.015414</td>\n",
       "      <td>1230.453730</td>\n",
       "      <td>25.634453</td>\n",
       "      <td>1230.453730</td>\n",
       "      <td>25.634453</td>\n",
       "      <td>10</td>\n",
       "    </tr>\n",
       "    <tr>\n",
       "      <th>5</th>\n",
       "      <td>167.46.3.209</td>\n",
       "      <td>71.126.222.64</td>\n",
       "      <td>ddos</td>\n",
       "      <td>5860.023725</td>\n",
       "      <td>108.738632</td>\n",
       "      <td>3202.846975</td>\n",
       "      <td>53.380783</td>\n",
       "      <td>2886.597938</td>\n",
       "      <td>60.137457</td>\n",
       "      <td>2886.597938</td>\n",
       "      <td>60.137457</td>\n",
       "      <td>23</td>\n",
       "    </tr>\n",
       "    <tr>\n",
       "      <th>6</th>\n",
       "      <td>217.238.32.123</td>\n",
       "      <td>71.126.222.64</td>\n",
       "      <td>ddos</td>\n",
       "      <td>5798.984772</td>\n",
       "      <td>107.614213</td>\n",
       "      <td>3273.185061</td>\n",
       "      <td>54.553084</td>\n",
       "      <td>2694.386694</td>\n",
       "      <td>56.133056</td>\n",
       "      <td>2694.386694</td>\n",
       "      <td>56.133056</td>\n",
       "      <td>23</td>\n",
       "    </tr>\n",
       "  </tbody>\n",
       "</table>\n",
       "</div>"
      ],
      "text/plain": [
       "               src            dst label  total_out_bytes_rate  \\\n",
       "1     195.216.1.86  71.126.222.64  ddos           7996.798079   \n",
       "2   195.52.240.138  71.126.222.64  ddos           6958.368734   \n",
       "4  209.210.127.200  71.126.222.64  ddos           8236.994220   \n",
       "5     167.46.3.209  71.126.222.64  ddos           5860.023725   \n",
       "6   217.238.32.123  71.126.222.64  ddos           5798.984772   \n",
       "\n",
       "   total_out_frames_rate  icmp_out_bytes_rate  icmp_out_frames_rate  \\\n",
       "1             148.088853          4709.376326             78.489605   \n",
       "2             127.442651          4205.607477             70.093458   \n",
       "4             142.100193          7080.924855            118.015414   \n",
       "5             108.738632          3202.846975             53.380783   \n",
       "6             107.614213          3273.185061             54.553084   \n",
       "\n",
       "   tcp_out_bytes_rate  tcp_out_frames_rate  with_tcpsyn_out_bytes_rate  \\\n",
       "1         3699.229327            77.067278                 3699.229327   \n",
       "2         2753.346080            57.361377                 2753.346080   \n",
       "4         1230.453730            25.634453                 1230.453730   \n",
       "5         2886.597938            60.137457                 2886.597938   \n",
       "6         2694.386694            56.133056                 2694.386694   \n",
       "\n",
       "   with_tcpsyn_out_frames_rate  tcp_ports_used  \n",
       "1                    77.067278              37  \n",
       "2                    57.361377              27  \n",
       "4                    25.634453              10  \n",
       "5                    60.137457              23  \n",
       "6                    56.133056              23  "
      ]
     },
     "execution_count": 339,
     "metadata": {},
     "output_type": "execute_result"
    }
   ],
   "source": [
    "cols = ddos_df.columns.values\n",
    "cols[0] = 'src'\n",
    "cols[1] = 'dst'\n",
    "ddos_df.columns = cols\n",
    "ddos_df.head()"
   ]
  },
  {
   "cell_type": "code",
   "execution_count": 342,
   "metadata": {
    "collapsed": false
   },
   "outputs": [
    {
     "data": {
      "text/html": [
       "<div>\n",
       "<table border=\"1\" class=\"dataframe\">\n",
       "  <thead>\n",
       "    <tr style=\"text-align: right;\">\n",
       "      <th></th>\n",
       "      <th>total_out_bytes_rate</th>\n",
       "      <th>total_out_frames_rate</th>\n",
       "      <th>icmp_out_bytes_rate</th>\n",
       "      <th>icmp_out_frames_rate</th>\n",
       "      <th>tcp_out_bytes_rate</th>\n",
       "      <th>tcp_out_frames_rate</th>\n",
       "      <th>with_tcpsyn_out_bytes_rate</th>\n",
       "      <th>with_tcpsyn_out_frames_rate</th>\n",
       "      <th>tcp_ports_used</th>\n",
       "    </tr>\n",
       "  </thead>\n",
       "  <tbody>\n",
       "    <tr>\n",
       "      <th>count</th>\n",
       "      <td>4849.000000</td>\n",
       "      <td>4849.000000</td>\n",
       "      <td>4849.000000</td>\n",
       "      <td>4849.000000</td>\n",
       "      <td>4849.000000</td>\n",
       "      <td>4849.000000</td>\n",
       "      <td>4849.000000</td>\n",
       "      <td>4849.000000</td>\n",
       "      <td>4849.000000</td>\n",
       "    </tr>\n",
       "    <tr>\n",
       "      <th>mean</th>\n",
       "      <td>3120.493438</td>\n",
       "      <td>52.635030</td>\n",
       "      <td>3068.822314</td>\n",
       "      <td>51.147039</td>\n",
       "      <td>183.751532</td>\n",
       "      <td>3.828284</td>\n",
       "      <td>183.751532</td>\n",
       "      <td>3.828284</td>\n",
       "      <td>1.152403</td>\n",
       "    </tr>\n",
       "    <tr>\n",
       "      <th>std</th>\n",
       "      <td>36199.604533</td>\n",
       "      <td>603.359150</td>\n",
       "      <td>36643.763825</td>\n",
       "      <td>610.729397</td>\n",
       "      <td>850.146041</td>\n",
       "      <td>17.711594</td>\n",
       "      <td>850.146041</td>\n",
       "      <td>17.711594</td>\n",
       "      <td>3.917159</td>\n",
       "    </tr>\n",
       "    <tr>\n",
       "      <th>min</th>\n",
       "      <td>0.000000</td>\n",
       "      <td>0.000000</td>\n",
       "      <td>0.000000</td>\n",
       "      <td>0.000000</td>\n",
       "      <td>0.000000</td>\n",
       "      <td>0.000000</td>\n",
       "      <td>0.000000</td>\n",
       "      <td>0.000000</td>\n",
       "      <td>0.000000</td>\n",
       "    </tr>\n",
       "    <tr>\n",
       "      <th>25%</th>\n",
       "      <td>1470.588235</td>\n",
       "      <td>24.721879</td>\n",
       "      <td>1423.487544</td>\n",
       "      <td>23.724792</td>\n",
       "      <td>0.000000</td>\n",
       "      <td>0.000000</td>\n",
       "      <td>0.000000</td>\n",
       "      <td>0.000000</td>\n",
       "      <td>0.000000</td>\n",
       "    </tr>\n",
       "    <tr>\n",
       "      <th>50%</th>\n",
       "      <td>2057.281162</td>\n",
       "      <td>34.431874</td>\n",
       "      <td>1987.224982</td>\n",
       "      <td>33.120416</td>\n",
       "      <td>0.000000</td>\n",
       "      <td>0.000000</td>\n",
       "      <td>0.000000</td>\n",
       "      <td>0.000000</td>\n",
       "      <td>0.000000</td>\n",
       "    </tr>\n",
       "    <tr>\n",
       "      <th>75%</th>\n",
       "      <td>2645.914397</td>\n",
       "      <td>44.444444</td>\n",
       "      <td>2528.507685</td>\n",
       "      <td>42.141795</td>\n",
       "      <td>0.000000</td>\n",
       "      <td>0.000000</td>\n",
       "      <td>0.000000</td>\n",
       "      <td>0.000000</td>\n",
       "      <td>0.000000</td>\n",
       "    </tr>\n",
       "    <tr>\n",
       "      <th>max</th>\n",
       "      <td>1800000.000000</td>\n",
       "      <td>30000.000000</td>\n",
       "      <td>1800000.000000</td>\n",
       "      <td>30000.000000</td>\n",
       "      <td>27428.571429</td>\n",
       "      <td>571.428571</td>\n",
       "      <td>27428.571429</td>\n",
       "      <td>571.428571</td>\n",
       "      <td>37.000000</td>\n",
       "    </tr>\n",
       "  </tbody>\n",
       "</table>\n",
       "</div>"
      ],
      "text/plain": [
       "       total_out_bytes_rate  total_out_frames_rate  icmp_out_bytes_rate  \\\n",
       "count           4849.000000            4849.000000          4849.000000   \n",
       "mean            3120.493438              52.635030          3068.822314   \n",
       "std            36199.604533             603.359150         36643.763825   \n",
       "min                0.000000               0.000000             0.000000   \n",
       "25%             1470.588235              24.721879          1423.487544   \n",
       "50%             2057.281162              34.431874          1987.224982   \n",
       "75%             2645.914397              44.444444          2528.507685   \n",
       "max          1800000.000000           30000.000000       1800000.000000   \n",
       "\n",
       "       icmp_out_frames_rate  tcp_out_bytes_rate  tcp_out_frames_rate  \\\n",
       "count           4849.000000         4849.000000          4849.000000   \n",
       "mean              51.147039          183.751532             3.828284   \n",
       "std              610.729397          850.146041            17.711594   \n",
       "min                0.000000            0.000000             0.000000   \n",
       "25%               23.724792            0.000000             0.000000   \n",
       "50%               33.120416            0.000000             0.000000   \n",
       "75%               42.141795            0.000000             0.000000   \n",
       "max            30000.000000        27428.571429           571.428571   \n",
       "\n",
       "       with_tcpsyn_out_bytes_rate  with_tcpsyn_out_frames_rate  tcp_ports_used  \n",
       "count                 4849.000000                  4849.000000     4849.000000  \n",
       "mean                   183.751532                     3.828284        1.152403  \n",
       "std                    850.146041                    17.711594        3.917159  \n",
       "min                      0.000000                     0.000000        0.000000  \n",
       "25%                      0.000000                     0.000000        0.000000  \n",
       "50%                      0.000000                     0.000000        0.000000  \n",
       "75%                      0.000000                     0.000000        0.000000  \n",
       "max                  27428.571429                   571.428571       37.000000  "
      ]
     },
     "execution_count": 342,
     "metadata": {},
     "output_type": "execute_result"
    }
   ],
   "source": [
    "ddos_df.describe()"
   ]
  },
  {
   "cell_type": "code",
   "execution_count": 340,
   "metadata": {
    "collapsed": false
   },
   "outputs": [],
   "source": [
    "# Pickle the data for later use:\n",
    "with open('ddos_df_pickled.pickle', 'wb') as handle:\n",
    "    pickle.dump(ddos_df, handle)"
   ]
  },
  {
   "cell_type": "markdown",
   "metadata": {},
   "source": [
    "### Miscellaneo"
   ]
  },
  {
   "cell_type": "code",
   "execution_count": 218,
   "metadata": {
    "collapsed": false
   },
   "outputs": [
    {
     "name": "stdout",
     "output_type": "stream",
     "text": [
      "False\n"
     ]
    }
   ],
   "source": [
    "# Verifying that all src IPs are distinct...\n",
    "def anydup(thelist):\n",
    "  seen = set()\n",
    "  for x in thelist:\n",
    "    if x in seen: return True\n",
    "    seen.add(x)\n",
    "  return False\n",
    "\n",
    "print(anydup(ddos_df.total_src))"
   ]
  },
  {
   "cell_type": "code",
   "execution_count": 225,
   "metadata": {
    "collapsed": false
   },
   "outputs": [
    {
     "name": "stdout",
     "output_type": "stream",
     "text": [
      "False\n"
     ]
    }
   ],
   "source": [
    "print(anydup(ddos_ports_dict))"
   ]
  },
  {
   "cell_type": "code",
   "execution_count": 341,
   "metadata": {
    "collapsed": false
   },
   "outputs": [
    {
     "data": {
      "text/plain": [
       "array(['src', 'dst', 'label', 'total_out_bytes_rate',\n",
       "       'total_out_frames_rate', 'icmp_out_bytes_rate',\n",
       "       'icmp_out_frames_rate', 'tcp_out_bytes_rate', 'tcp_out_frames_rate',\n",
       "       'with_tcpsyn_out_bytes_rate', 'with_tcpsyn_out_frames_rate',\n",
       "       'tcp_ports_used'], dtype=object)"
      ]
     },
     "execution_count": 341,
     "metadata": {},
     "output_type": "execute_result"
    }
   ],
   "source": [
    "ddos_df.columns.values"
   ]
  },
  {
   "cell_type": "markdown",
   "metadata": {
    "collapsed": true
   },
   "source": [
    "### Passive Dataset"
   ]
  },
  {
   "cell_type": "code",
   "execution_count": null,
   "metadata": {
    "collapsed": true
   },
   "outputs": [],
   "source": []
  }
 ],
 "metadata": {
  "kernelspec": {
   "display_name": "Python 3",
   "language": "python",
   "name": "python3"
  },
  "language_info": {
   "codemirror_mode": {
    "name": "ipython",
    "version": 3
   },
   "file_extension": ".py",
   "mimetype": "text/x-python",
   "name": "python",
   "nbconvert_exporter": "python",
   "pygments_lexer": "ipython3",
   "version": "3.4.3"
  }
 },
 "nbformat": 4,
 "nbformat_minor": 0
}
