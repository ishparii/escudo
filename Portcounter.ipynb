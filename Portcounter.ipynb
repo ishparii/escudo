{
 "cells": [
  {
   "cell_type": "code",
   "execution_count": null,
   "metadata": {
    "collapsed": false
   },
   "outputs": [],
   "source": [
    "import pandas as pd \n",
    "import numpy as np \n",
    "import csv as csv \n",
    "import glob \n",
    "import pickle\n",
    "import collections\n",
    "from datetime import datetime \n",
    "import matplotlib.pyplot as plt \n",
    "%matplotlib inline"
   ]
  },
  {
   "cell_type": "code",
   "execution_count": null,
   "metadata": {
    "collapsed": true
   },
   "outputs": [],
   "source": [
    "#victimIP = \"71.126.222.64\"\n",
    "#to_drop = ['<->', 'total_bytes', 'total_frames']\n",
    "#names = ['src', '<->', 'dest', 'in_frames', 'in_bytes', 'out_frames', 'out_bytes', 'total_frames', 'total_bytes', 'rel_start', 'duration']"
   ]
  },
  {
   "cell_type": "code",
   "execution_count": null,
   "metadata": {
    "collapsed": false
   },
   "outputs": [],
   "source": [
    "# Begin dataframe by importing the total data, which will have all IPs\n",
    "#protocol_names = ['total' + \"_\" + name for name in names]\n",
    "#print(protocol_names)\n",
    "#protocol_to_drop = ['total' + \"_\" + name for name in to_drop]\n",
    "ddos_df = pd.read_csv('resources/smallddos_tcpPORTS.tshark.csv')"
   ]
  },
  {
   "cell_type": "code",
   "execution_count": null,
   "metadata": {
    "collapsed": false
   },
   "outputs": [],
   "source": [
    "d = collections.defaultdict(list)\n",
    "for i, row in ddos_df.iterrows():\n",
    "    src = row.src.split(':')\n",
    "    dst = row.dst.split(':')\n",
    "    if row.outframes > 0:\n",
    "        d[src[0], dst[0]].append(src[1])\n",
    "    if row.inframes > 0:\n",
    "        d[dst[0], src[0]].append(dst[1])\n",
    "        \n",
    "print(d)"
   ]
  },
  {
   "cell_type": "code",
   "execution_count": null,
   "metadata": {
    "collapsed": true
   },
   "outputs": [],
   "source": [
    "# Begin dataframe by importing the total data, which will have all IPs\n",
    "#protocol_names = ['total' + \"_\" + name for name in names]\n",
    "#print(protocol_names)\n",
    "#protocol_to_drop = ['total' + \"_\" + name for name in to_drop]\n",
    "passive_df = pd.read_csv('resources/smallpassive_tcpPORTS.tshark.csv')"
   ]
  },
  {
   "cell_type": "code",
   "execution_count": null,
   "metadata": {
    "collapsed": false
   },
   "outputs": [],
   "source": [
    "d = collections.defaultdict(list)\n",
    "for i, row in passive_df.iterrows():\n",
    "    src = row.src.split(':')\n",
    "    dst = row.dst.split(':')\n",
    "    if row.outframes > 0:\n",
    "        d[src[0], dst[0]].append(src[1])\n",
    "    if row.inframes > 0:\n",
    "        d[dst[0], src[0]].append(dst[1])\n",
    "        \n",
    "print(d)"
   ]
  },
  {
   "cell_type": "code",
   "execution_count": null,
   "metadata": {
    "collapsed": true
   },
   "outputs": [],
   "source": []
  }
 ],
 "metadata": {
  "kernelspec": {
   "display_name": "Python 3",
   "language": "python",
   "name": "python3"
  },
  "language_info": {
   "codemirror_mode": {
    "name": "ipython",
    "version": 3
   },
   "file_extension": ".py",
   "mimetype": "text/x-python",
   "name": "python",
   "nbconvert_exporter": "python",
   "pygments_lexer": "ipython3",
   "version": "3.4.3"
  }
 },
 "nbformat": 4,
 "nbformat_minor": 0
}
